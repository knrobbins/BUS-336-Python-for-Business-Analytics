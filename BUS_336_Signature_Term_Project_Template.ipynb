{
 "cells": [
  {
   "cell_type": "code",
   "execution_count": null,
   "id": "88ed2852",
   "metadata": {},
   "outputs": [],
   "source": [
    "# Deliverable One. Open a new Jupyter Notebook and load CSV file into the Jupyter Notebook.\n",
    "\n",
    "# Task 1: Download the BUS336_Signature_Term_Project_Starbucks_Beverage_Menu CSV file from either the \n",
    "# Projects/Assignments folder in Blackboard or the GitHub account provided. \n",
    "# Save the CSV file in your C:\\Users\\YOUR COMPUTER NAME FOLDER."
   ]
  },
  {
   "cell_type": "code",
   "execution_count": null,
   "id": "7e4bce88",
   "metadata": {},
   "outputs": [],
   "source": [
    "# Task 2: Import pandas as pd to work with a package that can process dataframes.\n",
    "# ENTER CODE BELOW THIS LINE.\n",
    "\n",
    "\n",
    "# Import the BUS336_Signature_Term_Project_Starbucks_Beverage_Menu.csv file using the pandas package.\n",
    "# ENTER CODE BELOW THIS LINE.\n"
   ]
  },
  {
   "cell_type": "code",
   "execution_count": null,
   "id": "08f300fa",
   "metadata": {},
   "outputs": [],
   "source": [
    "# Task 3: Rename the Jupyter Notebook from Untitled to the following name convention: \n",
    "# LastName_FirstName_BUS 336_Signature_Term_Project. \n",
    "\n",
    "# The file will be stored in the your C:\\Users\\YOUR COMPUTER NAME FOLDER."
   ]
  },
  {
   "cell_type": "code",
   "execution_count": null,
   "id": "227ed7c6",
   "metadata": {},
   "outputs": [],
   "source": [
    "# Delivarable Two. Explore rows with all blank values and remove them.\n",
    "\n",
    "# Task 1: Using the isnull and sum functions, check the total NaN entries for all columns in the dataframe.\n",
    "# ENTER CODE BELOW THIS LINE.\n"
   ]
  },
  {
   "cell_type": "code",
   "execution_count": null,
   "id": "23a6d57f",
   "metadata": {},
   "outputs": [],
   "source": [
    "# Task 2: View the dataframe with the head function.\n",
    "# ENTER CODE BELOW THIS LINE.\n"
   ]
  },
  {
   "cell_type": "code",
   "execution_count": null,
   "id": "c573d98e",
   "metadata": {},
   "outputs": [],
   "source": [
    "# Task 3: Remove the row with all blank entries.\n",
    "# The how='all' will drop all rows with only NaN values. \n",
    "# ENTER CODE BELOW THIS LINE.\n"
   ]
  },
  {
   "cell_type": "code",
   "execution_count": null,
   "id": "c6ca3b3a",
   "metadata": {},
   "outputs": [],
   "source": [
    "# Task 4: Validate that the blank row(s) have been removed.\n",
    "# Use the isnull and sum functions to validate that df2 has only one column remains with an NaN.\n",
    "# ENTER CODE BELOW THIS LINE.\n"
   ]
  },
  {
   "cell_type": "code",
   "execution_count": null,
   "id": "471a1e4d",
   "metadata": {},
   "outputs": [],
   "source": [
    "# Deliverable Three. Explore the data types and correct any errors.\n",
    "\n",
    "# Task One: Using the dtypes function, check the data types.\n",
    "# ENTER CODE BELOW THIS LINE.\n"
   ]
  },
  {
   "cell_type": "code",
   "execution_count": null,
   "id": "68955673",
   "metadata": {},
   "outputs": [],
   "source": [
    "# Task 2: Look for column with the incorrect data type, understand why it is incorrect, \n",
    "# and change it to the correct data type.\n",
    "\n",
    "# In the dataframe, the Sugar_mg column has an incorrect string entry when it should be numeric. \n",
    "# A 0 value was entered as \"zero\". This will not result in a NaN, but Python will recognize this as a string. \n",
    "# We need to convert the string “zero” to an actual numerical 0. As a demonstration, we use the current dataframe that we are\n",
    "# working with and use the index numbers to isolate the row and column. The iloc function helps us isolate that the entry\n",
    "# zero is in the second row, 14th column (index positions 1 and 13). We set that cell value to the number 0 and it will change the \"zero\" to 0.\n",
    "# Run the code and look compare the Sugar_g column in df1 to df and see how the \"zero\" turns into a 0.\n",
    "df1.iloc[1,13] = 0\n",
    "df1"
   ]
  },
  {
   "cell_type": "code",
   "execution_count": null,
   "id": "9faa7477",
   "metadata": {},
   "outputs": [],
   "source": [
    "# Change Suger_g type to float.\n",
    "# ENTER CODE BELOW THIS LINE.\n"
   ]
  },
  {
   "cell_type": "code",
   "execution_count": null,
   "id": "749d79d2",
   "metadata": {},
   "outputs": [],
   "source": [
    "# Validate that the Sugar_g variable has been changed to a float.\n",
    "# ENTER CODE BELOW THIS LINE.\n"
   ]
  },
  {
   "cell_type": "code",
   "execution_count": null,
   "id": "62d8f0b2",
   "metadata": {},
   "outputs": [],
   "source": [
    "# Deliverable Four. Explore the NaN values and remove the row with any NaN values.\n",
    "\n",
    "# Task 1: Using the info function, check for one NaN value.\n",
    "# If the Non-Null Count has multiple “1204 non-null” entries, but one has a “1203 non-null” entry, \n",
    "# then that column still has a NaN value.\n"
   ]
  },
  {
   "cell_type": "code",
   "execution_count": null,
   "id": "cdca3bcf",
   "metadata": {},
   "outputs": [],
   "source": [
    "# Task 2: Assign a new dataframe df2 and remove the row with the NaN entry from the Saturated_Fat_g column in df1.\n",
    "# Drop any remaining rows that have an NaN.\n",
    "# ENTER CODE BELOW THIS LINE.\n"
   ]
  },
  {
   "cell_type": "code",
   "execution_count": null,
   "id": "7ad0600d",
   "metadata": {},
   "outputs": [],
   "source": [
    "# Task 3: Validate that it has been corrected.\n",
    "# Run the info function.\n",
    "# ENTER CODE BELOW THIS LINE.\n"
   ]
  },
  {
   "cell_type": "code",
   "execution_count": null,
   "id": "b44be777",
   "metadata": {},
   "outputs": [],
   "source": [
    "# Deliverable Five: Change a column name.\n",
    "\n",
    "# Task 1: Assign the dataframe to df3 and using the rename function, change the Caffiene_milligrams column header \n",
    "# from the df2 dataframe to Caffiene_mg.\n",
    "# ENTER CODE BELOW THIS LINE.\n"
   ]
  },
  {
   "cell_type": "code",
   "execution_count": null,
   "id": "1f7df368",
   "metadata": {
    "scrolled": true
   },
   "outputs": [],
   "source": [
    "# Task 2: Validate that it has been corrected.\n",
    "# ENTER CODE BELOW THIS LINE.\n"
   ]
  },
  {
   "cell_type": "code",
   "execution_count": null,
   "id": "ccc07864",
   "metadata": {},
   "outputs": [],
   "source": [
    "# Deliverable Six: Describe the continuous and categorical data.\n",
    "\n",
    "# Task 1: Using dataframe df3, use the describe() function to describe the continuous variables.\n",
    "\n",
    "# Continuous variables obtain the measures of central tendency, such as the mean and median,\n",
    "# as well as variance information such as standard deviations. \n",
    "# ENTER CODE BELOW THIS LINE.\n"
   ]
  },
  {
   "cell_type": "code",
   "execution_count": null,
   "id": "70f2623d",
   "metadata": {},
   "outputs": [],
   "source": [
    "# Task 2: Using dataframe df3, use the describe() function to describe the categorical variables.\n",
    "\n",
    "# Categorical variable to get the count of rows, unique count of categories, top category, and freq of top category.\n"
   ]
  },
  {
   "cell_type": "code",
   "execution_count": null,
   "id": "65d69105",
   "metadata": {},
   "outputs": [],
   "source": [
    "# Task 3: Analyze, interpret, and write about the continuous and categorical variables.\n",
    "\n",
    "# There are a many observations to note about the continuous variables that your client maybe interested to hear. \n",
    "# Here are just a few continuous variable observations. Students can note different ones.\n",
    "# The minimum size for any drink is 236 ml, which is about 8 ounces. The maximum is 887 ml, which is about 30 ounces.\n",
    "# Could there be opportunities to serve smaller or larger drinks? Why did Starbucks choose these drink size ranges?\n",
    "# Every nutritional measure has a minimum zero count. What could that indicate?\n",
    "# There drinks tend to have more Cholestoral then less. Look at the 0% to 50% percentage compared to the 75% to 100%.\n",
    "\n",
    "# There are a many observations to note about the categorical variables that your client maybe interested to hear. \n",
    "# Here are just a few categorical variable observations. Students can note different ones.\n",
    "# There ar 1,203 different drink combinations. Aprpoximately 94 are unique product names. \n",
    "# What resources does it take to train its employees to know the products?\n",
    "# White Hot Chocolate is the Product Name that is repeated most often. Why? \n",
    "# Grande seems to be the most popular size.\n",
    "# Customers appear to prefer Nonfat milk and do not prefer Whip cream for drinks that have that option.\n",
    "# There are six different types of Milk options. Nowadays, the Milk options on the market far exceed six. \n",
    "# Is there opportunity here?\n",
    "# There are seven different sizes for drinks. Is this too many, too little, or just the right amount?"
   ]
  },
  {
   "cell_type": "code",
   "execution_count": null,
   "id": "0c6464e8",
   "metadata": {},
   "outputs": [],
   "source": [
    "# Deliverable Seven: Write the dataframe to a CSV file, save it, and verify it as a CSV file.\n",
    "\n",
    "# Task 1: Using the to_csv function, write dataframe df3 to a new df4.CSV file.\n",
    "# ENTER CODE BELOW THIS LINE.\n"
   ]
  },
  {
   "cell_type": "code",
   "execution_count": null,
   "id": "922cbf1e",
   "metadata": {},
   "outputs": [],
   "source": [
    "# Task 2: \n",
    "# You do not have to make an entries to code anything for this task. Just check your file to make sure that df4 is saved."
   ]
  },
  {
   "cell_type": "code",
   "execution_count": null,
   "id": "e72163ee",
   "metadata": {},
   "outputs": [],
   "source": [
    "# Task 3: Assign a new dataframe and load the CSV file back into the Jupyter Notebook using the pandas package. \n",
    "# ENTER CODE BELOW THIS LINE.\n"
   ]
  },
  {
   "cell_type": "code",
   "execution_count": null,
   "id": "86e22b3a",
   "metadata": {},
   "outputs": [],
   "source": [
    "# Task 4: Open the newly created CSV file in the Jupyter Notebook.\n",
    "# ENTER CODE BELOW THIS LINE.\n"
   ]
  },
  {
   "cell_type": "code",
   "execution_count": null,
   "id": "6e8e4861",
   "metadata": {},
   "outputs": [],
   "source": [
    "# Deliverable Eight: Upload file into your GitHub Account.\n",
    "\n",
    "# Share your work with others! You do not need to do anything else inside this file. Anyone who has the file can replicate\n",
    "# the work that you have done. They can modify it at will.\n",
    "# Now you will be able to explain to anyone what you did and how you did it with a clean trail. \n",
    "# Try duplicating that feat in Excel!\n",
    "\n",
    "# Task #1: Open your GitHub account and upload the newly created df4.csv file.\n",
    "# Task #2: Validate that it has been uploaded and can be opened by emailing it to yourself and  instructor."
   ]
  },
  {
   "cell_type": "code",
   "execution_count": 2,
   "id": "c6a22f46",
   "metadata": {},
   "outputs": [],
   "source": [
    "# Deliverable Nine: Make a short video explaining deliverables one through nine.\n",
    "\n",
    "# Follow the instruction in the Step-by-Step guide to submit it.\n",
    "\n",
    "# Task #1: Rehearse, record, and present a video presentation.\n",
    "# Task #2: Upload the video presentation."
   ]
  },
  {
   "cell_type": "code",
   "execution_count": 1,
   "id": "5d898943",
   "metadata": {},
   "outputs": [
    {
     "ename": "SyntaxError",
     "evalue": "unterminated string literal (detected at line 5) (2205757760.py, line 5)",
     "output_type": "error",
     "traceback": [
      "\u001b[1;36m  Cell \u001b[1;32mIn[1], line 5\u001b[1;36m\u001b[0m\n\u001b[1;33m    Try to hit the run button for this code block. You will get an SyntaxError message. Don't worry about it. I can still read\u001b[0m\n\u001b[1;37m                                                                                           ^\u001b[0m\n\u001b[1;31mSyntaxError\u001b[0m\u001b[1;31m:\u001b[0m unterminated string literal (detected at line 5)\n"
     ]
    }
   ],
   "source": [
    "# Deliverable Ten: Write a reflection below.\n",
    "\n",
    "Start typing your reflection below this paragraph. You do not have to include a hash tag to begin the line as you did in Delivarabe Six. \n",
    "Just start typing and make sure that you put in line breaks when you get close to the right margin like you see here.\n",
    "Try to hit the run button for this code block. You will get an SyntaxError message. Don't worry about it. I can still read \n",
    "your reflection. I just want you to see the difference if you type a narrative with or without a #.\n",
    "\n",
    "# ENTER Reflection BELOW THIS LINE.\n"
   ]
  }
 ],
 "metadata": {
  "kernelspec": {
   "display_name": "Python 3 (ipykernel)",
   "language": "python",
   "name": "python3"
  },
  "language_info": {
   "codemirror_mode": {
    "name": "ipython",
    "version": 3
   },
   "file_extension": ".py",
   "mimetype": "text/x-python",
   "name": "python",
   "nbconvert_exporter": "python",
   "pygments_lexer": "ipython3",
   "version": "3.11.3"
  }
 },
 "nbformat": 4,
 "nbformat_minor": 5
}
